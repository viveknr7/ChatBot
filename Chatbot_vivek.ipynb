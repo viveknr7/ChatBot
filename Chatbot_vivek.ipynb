{
  "nbformat": 4,
  "nbformat_minor": 0,
  "metadata": {
    "colab": {
      "name": "Chatbot_vivek.ipynb",
      "provenance": [],
      "collapsed_sections": [],
      "authorship_tag": "ABX9TyPVzG66jdrz2Uox6sKJ7zjh",
      "include_colab_link": true
    },
    "kernelspec": {
      "display_name": "Python 3",
      "name": "python3"
    },
    "language_info": {
      "name": "python"
    }
  },
  "cells": [
    {
      "cell_type": "markdown",
      "metadata": {
        "id": "view-in-github",
        "colab_type": "text"
      },
      "source": [
        "<a href=\"https://colab.research.google.com/github/vnr177/ChatBot/blob/main/Chatbot_vivek.ipynb\" target=\"_parent\"><img src=\"https://colab.research.google.com/assets/colab-badge.svg\" alt=\"Open In Colab\"/></a>"
      ]
    },
    {
      "cell_type": "code",
      "metadata": {
        "id": "GNqw-i6t0cuU"
      },
      "source": [
        "# description : chatbot \n"
      ],
      "execution_count": null,
      "outputs": []
    },
    {
      "cell_type": "code",
      "metadata": {
        "colab": {
          "base_uri": "https://localhost:8080/"
        },
        "id": "nXz17-9l01wV",
        "outputId": "7c8bbbd5-b3c5-4d8b-b018-2ceac3411db9"
      },
      "source": [
        "pip install nltk\n"
      ],
      "execution_count": null,
      "outputs": [
        {
          "output_type": "stream",
          "text": [
            "Requirement already satisfied: nltk in /usr/local/lib/python3.7/dist-packages (3.2.5)\n",
            "Requirement already satisfied: six in /usr/local/lib/python3.7/dist-packages (from nltk) (1.15.0)\n"
          ],
          "name": "stdout"
        }
      ]
    },
    {
      "cell_type": "code",
      "metadata": {
        "id": "rY7rqWa609CY"
      },
      "source": [
        "pip install newspaper3k\n"
      ],
      "execution_count": null,
      "outputs": []
    },
    {
      "cell_type": "code",
      "metadata": {
        "id": "JYT_GagD1IKB"
      },
      "source": [
        "# Importing libraries\n",
        "from newspaper import Article\n",
        "import random\n",
        "import string\n",
        "import nltk\n",
        "from sklearn.feature_extraction.text import CountVectorizer\n",
        "from sklearn.metrics.pairwise import cosine_similarity\n",
        "import numpy as np\n",
        "import warnings\n",
        "warnings.filterwarnings('ignore')"
      ],
      "execution_count": null,
      "outputs": []
    },
    {
      "cell_type": "code",
      "metadata": {
        "colab": {
          "base_uri": "https://localhost:8080/"
        },
        "id": "dojGvtfm1_Sm",
        "outputId": "9bb351f9-b1d0-4a92-916f-fcfb95c98c7c"
      },
      "source": [
        "#download punkt package\n",
        "nltk.download('punkt',quiet=True)"
      ],
      "execution_count": null,
      "outputs": [
        {
          "output_type": "execute_result",
          "data": {
            "text/plain": [
              "True"
            ]
          },
          "metadata": {
            "tags": []
          },
          "execution_count": 5
        }
      ]
    },
    {
      "cell_type": "code",
      "metadata": {
        "id": "YvTEm8N92ES3"
      },
      "source": [
        "#getting resourse article\n",
        "article=Article('https://en.wikipedia.org/wiki/Machine_learning')\n",
        "article.download()\n",
        "article.parse()\n",
        "article.nlp()\n",
        "corpus=article.text\n",
        "\n",
        "article1=Article('https://en.wikipedia.org/wiki/Giant_panda')\n",
        "article1.download()\n",
        "article1.parse()\n",
        "article1.nlp()\n",
        "corpus1=article1.text\n"
      ],
      "execution_count": 31,
      "outputs": []
    },
    {
      "cell_type": "code",
      "metadata": {
        "id": "yANLSoa-3sl0"
      },
      "source": [
        "#print article text\n",
        "print(corpus1)"
      ],
      "execution_count": null,
      "outputs": []
    },
    {
      "cell_type": "code",
      "metadata": {
        "id": "HQxvyZ9z31Yj"
      },
      "source": [
        "#tokenization\n",
        "text=corpus+corpus1\n",
        "sentence_list=nltk.sent_tokenize(text) # Alist of sentences\n"
      ],
      "execution_count": 33,
      "outputs": []
    },
    {
      "cell_type": "code",
      "metadata": {
        "colab": {
          "base_uri": "https://localhost:8080/"
        },
        "id": "KaBE2Lep4Lng",
        "outputId": "3cda92be-9b9b-465b-af11-8143f7b136f4"
      },
      "source": [
        "#print the list of sentences\n",
        "print(sentence_list)\n"
      ],
      "execution_count": null,
      "outputs": [
        {
          "output_type": "stream",
          "text": [
            "['Study of algorithms that improve automatically through experience\\n\\n\"Statistical learning\" redirects here.', 'For statistical learning in linguistics, see statistical learning in language acquisition\\n\\nMachine learning (ML) is the study of computer algorithms that improve automatically through experience and by the use of data.', '[1] It is seen as a part of artificial intelligence.', 'Machine learning algorithms build a model based on sample data, known as \"training data\", in order to make predictions or decisions without being explicitly programmed to do so.', '[2] Machine learning algorithms are used in a wide variety of applications, such as in medicine, email filtering, and computer vision, where it is difficult or unfeasible to develop conventional algorithms to perform the needed tasks.', '[3]\\n\\nA subset of machine learning is closely related to computational statistics, which focuses on making predictions using computers; but not all machine learning is statistical learning.', 'The study of mathematical optimization delivers methods, theory and application domains to the field of machine learning.', 'Data mining is a related field of study, focusing on exploratory data analysis through unsupervised learning.', '[5][6] In its application across business problems, machine learning is also referred to as predictive analytics.', 'Overview [ edit ]\\n\\nMachine learning involves computers discovering how they can perform tasks without being explicitly programmed to do so.', 'It involves computers learning from data provided so that they carry out certain tasks.', \"For simple tasks assigned to computers, it is possible to program algorithms telling the machine how to execute all steps required to solve the problem at hand; on the computer's part, no learning is needed.\", 'For more advanced tasks, it can be challenging for a human to manually create the needed algorithms.', 'In practice, it can turn out to be more effective to help the machine develop its own algorithm, rather than having human programmers specify every needed step.', '[7]\\n\\nThe discipline of machine learning employs various approaches to teach computers to accomplish tasks where no fully satisfactory algorithm is available.', 'In cases where vast numbers of potential answers exist, one approach is to label some of the correct answers as valid.', 'This can then be used as training data for the computer to improve the algorithm(s) it uses to determine correct answers.', 'For example, to train a system for the task of digital character recognition, the MNIST dataset of handwritten digits has often been used.', '[7]\\n\\nHistory and relationships to other fields [ edit ]\\n\\nThe term machine learning was coined in 1959 by Arthur Samuel, an American IBMer and pioneer in the field of computer gaming and artificial intelligence.', \"[8][9] A representative book of the machine learning research during the 1960s was the Nilsson's book on Learning Machines, dealing mostly with machine learning for pattern classification.\", '[10] Interest related to pattern recognition continued into the 1970s, as described by Duda and Hart in 1973.', '[11] In 1981 a report was given on using teaching strategies so that a neural network learns to recognize 40 characters (26 letters, 10 digits, and 4 special symbols) from a computer terminal.', '[12]\\n\\nTom M. Mitchell provided a widely quoted, more formal definition of the algorithms studied in the machine learning field: \"A computer program is said to learn from experience E with respect to some class of tasks T and performance measure P if its performance at tasks in T, as measured by P, improves with experience E.\"[13] This definition of the tasks in which machine learning is concerned offers a fundamentally operational definition rather than defining the field in cognitive terms.', 'This follows Alan Turing\\'s proposal in his paper \"Computing Machinery and Intelligence\", in which the question \"Can machines think?\"', 'is replaced with the question \"Can machines do what we (as thinking entities) can do?\".', '[14]\\n\\nModern day machine learning has two objectives, one is to classify data based on models which have been developed, the other purpose is to make predictions for future outcomes based on these models.', 'A hypothetical algorithm specific to classifying data may use computer vision of moles coupled with supervised learning in order to train it to classify the cancerous moles.', 'Where as, a machine learning algorithm for stock trading may inform the trader of future potential predictions.', '[15]\\n\\nArtificial intelligence [ edit ]\\n\\n[16] Machine learning as subfield of AI\\n\\n[17] Part of machine learning as subfield of AI or part of AI as subfield of machine learning\\n\\nAs a scientific endeavor, machine learning grew out of the quest for artificial intelligence.', 'In the early days of AI as an academic discipline, some researchers were interested in having machines learn from data.', 'They attempted to approach the problem with various symbolic methods, as well as what was then termed \"neural networks\"; these were mostly perceptrons and other models that were later found to be reinventions of the generalized linear models of statistics.', '[18] Probabilistic reasoning was also employed, especially in automated medical diagnosis.', '[19]:488\\n\\nHowever, an increasing emphasis on the logical, knowledge-based approach caused a rift between AI and machine learning.', 'Probabilistic systems were plagued by theoretical and practical problems of data acquisition and representation.', '[19]:488 By 1980, expert systems had come to dominate AI, and statistics was out of favor.', '[20] Work on symbolic/knowledge-based learning did continue within AI, leading to inductive logic programming, but the more statistical line of research was now outside the field of AI proper, in pattern recognition and information retrieval.', '[19]:708–710; 755 Neural networks research had been abandoned by AI and computer science around the same time.', 'This line, too, was continued outside the AI/CS field, as \"connectionism\", by researchers from other disciplines including Hopfield, Rumelhart and Hinton.', 'Their main success came in the mid-1980s with the reinvention of backpropagation.', '[19]:25\\n\\nMachine learning (ML), reorganized as a separate field, started to flourish in the 1990s.', 'The field changed its goal from achieving artificial intelligence to tackling solvable problems of a practical nature.', 'It shifted focus away from the symbolic approaches it had inherited from AI, and toward methods and models borrowed from statistics and probability theory.', '[20]\\n\\nAs of 2020, many sources continue to assert that machine learning remains a subfield of AI.', '[21][22][16] The main disagreement is whether all of ML is part of AI, as this would mean that anyone using ML could claim they are using AI.', \"Others have the view that not all of ML is part of AI[23][24][25] where only an 'intelligent' subset of ML is part of AI.\", '[26]\\n\\nThe question to what is the difference between ML and AI is answered by Judea Pearl in The Book of Why.', '[27] Accordingly ML learns and predicts based on passive observations, whereas AI implies an agent interacting with the environment to learn and take actions that maximize its chance of successfully achieving its goals.', '[30]\\n\\nData mining [ edit ]\\n\\nMachine learning and data mining often employ the same methods and overlap significantly, but while machine learning focuses on prediction, based on known properties learned from the training data, data mining focuses on the discovery of (previously) unknown properties in the data (this is the analysis step of knowledge discovery in databases).', 'Data mining uses many machine learning methods, but with different goals; on the other hand, machine learning also employs data mining methods as \"unsupervised learning\" or as a preprocessing step to improve learner accuracy.', 'Much of the confusion between these two research communities (which do often have separate conferences and separate journals, ECML PKDD being a major exception) comes from the basic assumptions they work with: in machine learning, performance is usually evaluated with respect to the ability to reproduce known knowledge, while in knowledge discovery and data mining (KDD) the key task is the discovery of previously unknown knowledge.', 'Evaluated with respect to known knowledge, an uninformed (unsupervised) method will easily be outperformed by other supervised methods, while in a typical KDD task, supervised methods cannot be used due to the unavailability of training data.', 'Optimization [ edit ]\\n\\nMachine learning also has intimate ties to optimization: many learning problems are formulated as minimization of some loss function on a training set of examples.', 'Loss functions express the discrepancy between the predictions of the model being trained and the actual problem instances (for example, in classification, one wants to assign a label to instances, and models are trained to correctly predict the pre-assigned labels of a set of examples).', '[31]\\n\\nGeneralization [ edit ]\\n\\nThe difference between optimization and machine learning arises from the goal of generalization: while optimization algorithms can minimize the loss on a training set, machine learning is concerned with minimizing the loss on unseen samples.', 'Characterizing the generalization of various learning algorithms is an active topic of current research, especially for deep learning algorithms.', 'Statistics [ edit ]\\n\\nMachine learning and statistics are closely related fields in terms of methods, but distinct in their principal goal: statistics draws population inferences from a sample, while machine learning finds generalizable predictive patterns.', '[32] According to Michael I. Jordan, the ideas of machine learning, from methodological principles to theoretical tools, have had a long pre-history in statistics.', '[33] He also suggested the term data science as a placeholder to call the overall field.', '[33]\\n\\nLeo Breiman distinguished two statistical modeling paradigms: data model and algorithmic model,[34] wherein \"algorithmic model\" means more or less the machine learning algorithms like Random forest.', 'Some statisticians have adopted methods from machine learning, leading to a combined field that they call statistical learning.', '[35]\\n\\nTheory [ edit ]\\n\\nA core objective of a learner is to generalize from its experience.', '[4][36] Generalization in this context is the ability of a learning machine to perform accurately on new, unseen examples/tasks after having experienced a learning data set.', 'The training examples come from some generally unknown probability distribution (considered representative of the space of occurrences) and the learner has to build a general model about this space that enables it to produce sufficiently accurate predictions in new cases.', 'The computational analysis of machine learning algorithms and their performance is a branch of theoretical computer science known as computational learning theory.', 'Because training sets are finite and the future is uncertain, learning theory usually does not yield guarantees of the performance of algorithms.', 'Instead, probabilistic bounds on the performance are quite common.', 'The bias–variance decomposition is one way to quantify generalization error.', 'For the best performance in the context of generalization, the complexity of the hypothesis should match the complexity of the function underlying the data.', 'If the hypothesis is less complex than the function, then the model has under fitted the data.', 'If the complexity of the model is increased in response, then the training error decreases.', 'But if the hypothesis is too complex, then the model is subject to overfitting and generalization will be poorer.', '[37]\\n\\nIn addition to performance bounds, learning theorists study the time complexity and feasibility of learning.', 'In computational learning theory, a computation is considered feasible if it can be done in polynomial time.', 'There are two kinds of time complexity results.', 'Positive results show that a certain class of functions can be learned in polynomial time.', 'Negative results show that certain classes cannot be learned in polynomial time.', 'Approaches [ edit ]\\n\\nMachine learning approaches are traditionally divided into three broad categories, depending on the nature of the \"signal\" or \"feedback\" available to the learning system:\\n\\nSupervised learning: The computer is presented with example inputs and their desired outputs, given by a \"teacher\", and the goal is to learn a general rule that maps inputs to outputs.', 'Unsupervised learning: No labels are given to the learning algorithm, leaving it on its own to find structure in its input.', 'Unsupervised learning can be a goal in itself (discovering hidden patterns in data) or a means towards an end (feature learning).', 'Reinforcement learning: A computer program interacts with a dynamic environment in which it must perform a certain goal (such as driving a vehicle or playing a game against an opponent).', \"As it navigates its problem space, the program is provided feedback that's analogous to rewards, which it tries to maximize.\", '[4]\\n\\nSupervised learning [ edit ]\\n\\nsupport-vector machine is a supervised learning model that divides the data into regions separated by a linear boundary .', 'Here, the linear boundary divides the black circles from the white.', 'Supervised learning algorithms build a mathematical model of a set of data that contains both the inputs and the desired outputs.', '[38] The data is known as training data, and consists of a set of training examples.', 'Each training example has one or more inputs and the desired output, also known as a supervisory signal.', 'In the mathematical model, each training example is represented by an array or vector, sometimes called a feature vector, and the training data is represented by a matrix.', 'Through iterative optimization of an objective function, supervised learning algorithms learn a function that can be used to predict the output associated with new inputs.', '[39] An optimal function will allow the algorithm to correctly determine the output for inputs that were not a part of the training data.', 'An algorithm that improves the accuracy of its outputs or predictions over time is said to have learned to perform that task.', '[13]\\n\\nTypes of supervised learning algorithms include active learning, classification and regression.', '[40] Classification algorithms are used when the outputs are restricted to a limited set of values, and regression algorithms are used when the outputs may have any numerical value within a range.', 'As an example, for a classification algorithm that filters emails, the input would be an incoming email, and the output would be the name of the folder in which to file the email.', 'Similarity learning is an area of supervised machine learning closely related to regression and classification, but the goal is to learn from examples using a similarity function that measures how similar or related two objects are.', 'It has applications in ranking, recommendation systems, visual identity tracking, face verification, and speaker verification.', 'Unsupervised learning [ edit ]\\n\\nUnsupervised learning algorithms take a set of data that contains only inputs, and find structure in the data, like grouping or clustering of data points.', 'The algorithms, therefore, learn from test data that has not been labeled, classified or categorized.', 'Instead of responding to feedback, unsupervised learning algorithms identify commonalities in the data and react based on the presence or absence of such commonalities in each new piece of data.', 'A central application of unsupervised learning is in the field of density estimation in statistics, such as finding the probability density function.', '[41] Though unsupervised learning encompasses other domains involving summarizing and explaining data features.', 'Cluster analysis is the assignment of a set of observations into subsets (called clusters) so that observations within the same cluster are similar according to one or more predesignated criteria, while observations drawn from different clusters are dissimilar.', 'Different clustering techniques make different assumptions on the structure of the data, often defined by some similarity metric and evaluated, for example, by internal compactness, or the similarity between members of the same cluster, and separation, the difference between clusters.', 'Other methods are based on estimated density and graph connectivity.', 'Semi-supervised learning [ edit ]\\n\\nSemi-supervised learning falls between unsupervised learning (without any labeled training data) and supervised learning (with completely labeled training data).', 'Some of the training examples are missing training labels, yet many machine-learning researchers have found that unlabeled data, when used in conjunction with a small amount of labeled data, can produce a considerable improvement in learning accuracy.', 'In weakly supervised learning, the training labels are noisy, limited, or imprecise; however, these labels are often cheaper to obtain, resulting in larger effective training sets.', '[42]\\n\\nReinforcement learning [ edit ]\\n\\nReinforcement learning is an area of machine learning concerned with how software agents ought to take actions in an environment so as to maximize some notion of cumulative reward.', 'Due to its generality, the field is studied in many other disciplines, such as game theory, control theory, operations research, information theory, simulation-based optimization, multi-agent systems, swarm intelligence, statistics and genetic algorithms.', 'In machine learning, the environment is typically represented as a Markov decision process (MDP).', 'Many reinforcement learning algorithms use dynamic programming techniques.', '[43] Reinforcement learning algorithms do not assume knowledge of an exact mathematical model of the MDP, and are used when exact models are infeasible.', 'Reinforcement learning algorithms are used in autonomous vehicles or in learning to play a game against a human opponent.', 'Dimensionality Reduction [ edit ]\\n\\nThe Dimensionality reduction is a process of reducing the number of random variables under the consideration by obtaining a set of principal variables.', '[44] In other words, it is a process of reducing the dimension of your feature set also called no of features.', 'Most of the dimensionality reduction techniques can be considered as either feature elimination or extraction.', 'One of the popular method of dimensionality reduction is called as principal component analysis.', 'Principal Component Analysis (PCA)\\n\\nThe PCA involves changing higher dimensional data (eg.', '3D) to a smaller space (eg.', '2D).', 'This results in a smaller dimension of data, (2D instead of 3D) while keeping all original variables in the model without changing the data.', \"[45]\\n\\nOther types [ edit ]\\n\\nOther approaches have been developed which don't fit neatly into this three-fold categorisation, and sometimes more than one is used by the same machine learning system.\", 'For example topic modeling, meta learning.', '[46]\\n\\nAs of 2020, deep learning has become the dominant approach for much ongoing work in the field of machine learning.', '[7]\\n\\nSelf learning [ edit ]\\n\\nSelf-learning as a machine learning paradigm was introduced in 1982 along with a neural network capable of self-learning named crossbar adaptive array (CAA).', '[47] It is a learning with no external rewards and no external teacher advice.', 'The CAA self-learning algorithm computes, in a crossbar fashion, both decisions about actions and emotions (feelings) about consequence situations.', 'The system is driven by the interaction between cognition and emotion.', '[48] The self-learning algorithm updates a memory matrix W =||w(a,s)|| such that in each iteration executes the following machine learning routine:\\n\\nIn situation s perform an action a; Receive consequence situation s’; Compute emotion of being in consequence situation v(s’); Update crossbar memory w’(a,s) = w(a,s) + v(s’).', 'It is a system with only one input, situation s, and only one output, action (or behavior) a.', 'There is neither a separate reinforcement input nor an advice input from the environment.', 'The backpropagated value (secondary reinforcement) is the emotion toward the consequence situation.', 'The CAA exists in two environments, one is the behavioral environment where it behaves, and the other is the genetic environment, wherefrom it initially and only once receives initial emotions about situations to be encountered in the behavioral environment.', 'After receiving the genome (species) vector from the genetic environment, the CAA learns a goal-seeking behavior, in an environment that contains both desirable and undesirable situations.', '[49]\\n\\nFeature learning [ edit ]\\n\\nSeveral learning algorithms aim at discovering better representations of the inputs provided during training.', '[50] Classic examples include principal components analysis and cluster analysis.', 'Feature learning algorithms, also called representation learning algorithms, often attempt to preserve the information in their input but also transform it in a way that makes it useful, often as a pre-processing step before performing classification or predictions.', 'This technique allows reconstruction of the inputs coming from the unknown data-generating distribution, while not being necessarily faithful to configurations that are implausible under that distribution.', 'This replaces manual feature engineering, and allows a machine to both learn the features and use them to perform a specific task.', 'Feature learning can be either supervised or unsupervised.', 'In supervised feature learning, features are learned using labeled input data.', 'Examples include artificial neural networks, multilayer perceptrons, and supervised dictionary learning.', 'In unsupervised feature learning, features are learned with unlabeled input data.', 'Examples include dictionary learning, independent component analysis, autoencoders, matrix factorization[51] and various forms of clustering.', '[52][53][54]\\n\\nManifold learning algorithms attempt to do so under the constraint that the learned representation is low-dimensional.', 'Sparse coding algorithms attempt to do so under the constraint that the learned representation is sparse, meaning that the mathematical model has many zeros.', 'Multilinear subspace learning algorithms aim to learn low-dimensional representations directly from tensor representations for multidimensional data, without reshaping them into higher-dimensional vectors.', '[55] Deep learning algorithms discover multiple levels of representation, or a hierarchy of features, with higher-level, more abstract features defined in terms of (or generating) lower-level features.', 'It has been argued that an intelligent machine is one that learns a representation that disentangles the underlying factors of variation that explain the observed data.', '[56]\\n\\nFeature learning is motivated by the fact that machine learning tasks such as classification often require input that is mathematically and computationally convenient to process.', 'However, real-world data such as images, video, and sensory data has not yielded to attempts to algorithmically define specific features.', 'An alternative is to discover such features or representations through examination, without relying on explicit algorithms.', 'Sparse dictionary learning [ edit ]\\n\\nSparse dictionary learning is a feature learning method where a training example is represented as a linear combination of basis functions, and is assumed to be a sparse matrix.', 'The method is strongly NP-hard and difficult to solve approximately.', '[57] A popular heuristic method for sparse dictionary learning is the K-SVD algorithm.', 'Sparse dictionary learning has been applied in several contexts.', 'In classification, the problem is to determine the class to which a previously unseen training example belongs.', 'For a dictionary where each class has already been built, a new training example is associated with the class that is best sparsely represented by the corresponding dictionary.', 'Sparse dictionary learning has also been applied in image de-noising.', 'The key idea is that a clean image patch can be sparsely represented by an image dictionary, but the noise cannot.', '[58]\\n\\nAnomaly detection [ edit ]\\n\\nIn data mining, anomaly detection, also known as outlier detection, is the identification of rare items, events or observations which raise suspicions by differing significantly from the majority of the data.', '[59] Typically, the anomalous items represent an issue such as bank fraud, a structural defect, medical problems or errors in a text.', 'Anomalies are referred to as outliers, novelties, noise, deviations and exceptions.', '[60]\\n\\nIn particular, in the context of abuse and network intrusion detection, the interesting objects are often not rare objects, but unexpected bursts of inactivity.', 'This pattern does not adhere to the common statistical definition of an outlier as a rare object, and many outlier detection methods (in particular, unsupervised algorithms) will fail on such data unless it has been aggregated appropriately.', 'Instead, a cluster analysis algorithm may be able to detect the micro-clusters formed by these patterns.', '[61]\\n\\nThree broad categories of anomaly detection techniques exist.', '[62] Unsupervised anomaly detection techniques detect anomalies in an unlabeled test data set under the assumption that the majority of the instances in the data set are normal, by looking for instances that seem to fit least to the remainder of the data set.', 'Supervised anomaly detection techniques require a data set that has been labeled as \"normal\" and \"abnormal\" and involves training a classifier (the key difference to many other statistical classification problems is the inherently unbalanced nature of outlier detection).', 'Semi-supervised anomaly detection techniques construct a model representing normal behavior from a given normal training data set and then test the likelihood of a test instance to be generated by the model.', 'Robot learning [ edit ]\\n\\nIn developmental robotics, robot learning algorithms generate their own sequences of learning experiences, also known as a curriculum, to cumulatively acquire new skills through self-guided exploration and social interaction with humans.', 'These robots use guidance mechanisms such as active learning, maturation, motor synergies and imitation.', 'Association rules [ edit ]\\n\\nAssociation rule learning is a rule-based machine learning method for discovering relationships between variables in large databases.', 'It is intended to identify strong rules discovered in databases using some measure of \"interestingness\".', '[63]\\n\\nRule-based machine learning is a general term for any machine learning method that identifies, learns, or evolves \"rules\" to store, manipulate or apply knowledge.', 'The defining characteristic of a rule-based machine learning algorithm is the identification and utilization of a set of relational rules that collectively represent the knowledge captured by the system.', 'This is in contrast to other machine learning algorithms that commonly identify a singular model that can be universally applied to any instance in order to make a prediction.', '[64] Rule-based machine learning approaches include learning classifier systems, association rule learning, and artificial immune systems.', 'Based on the concept of strong rules, Rakesh Agrawal, Tomasz Imieliński and Arun Swami introduced association rules for discovering regularities between products in large-scale transaction data recorded by point-of-sale (POS) systems in supermarkets.', '[65] For example, the rule { o n i o n s , p o t a t o e s } ⇒ { b u r g e r } {\\\\displaystyle \\\\{\\\\mathrm {onions,potatoes} \\\\}\\\\Rightarrow \\\\{\\\\mathrm {burger} \\\\}} found in the sales data of a supermarket would indicate that if a customer buys onions and potatoes together, they are likely to also buy hamburger meat.', 'Such information can be used as the basis for decisions about marketing activities such as promotional pricing or product placements.', 'In addition to market basket analysis, association rules are employed today in application areas including Web usage mining, intrusion detection, continuous production, and bioinformatics.', 'In contrast with sequence mining, association rule learning typically does not consider the order of items either within a transaction or across transactions.', 'Learning classifier systems (LCS) are a family of rule-based machine learning algorithms that combine a discovery component, typically a genetic algorithm, with a learning component, performing either supervised learning, reinforcement learning, or unsupervised learning.', 'They seek to identify a set of context-dependent rules that collectively store and apply knowledge in a piecewise manner in order to make predictions.', '[66]\\n\\nInductive logic programming (ILP) is an approach to rule-learning using logic programming as a uniform representation for input examples, background knowledge, and hypotheses.', 'Given an encoding of the known background knowledge and a set of examples represented as a logical database of facts, an ILP system will derive a hypothesized logic program that entails all positive and no negative examples.', 'Inductive programming is a related field that considers any kind of programming language for representing hypotheses (and not only logic programming), such as functional programs.', 'Inductive logic programming is particularly useful in bioinformatics and natural language processing.', 'Gordon Plotkin and Ehud Shapiro laid the initial theoretical foundation for inductive machine learning in a logical setting.', '[67][68][69] Shapiro built their first implementation (Model Inference System) in 1981: a Prolog program that inductively inferred logic programs from positive and negative examples.', '[70] The term inductive here refers to philosophical induction, suggesting a theory to explain observed facts, rather than mathematical induction, proving a property for all members of a well-ordered set.', 'Models [ edit ]\\n\\nPerforming machine learning involves creating a model, which is trained on some training data and then can process additional data to make predictions.', 'Various types of models have been used and researched for machine learning systems.', 'Artificial neural networks [ edit ]\\n\\nAn artificial neural network is an interconnected group of nodes, akin to the vast network of neurons in a brain .', 'Here, each circular node represents an artificial neuron and an arrow represents a connection from the output of one artificial neuron to the input of another.', 'Artificial neural networks (ANNs), or connectionist systems, are computing systems vaguely inspired by the biological neural networks that constitute animal brains.', 'Such systems \"learn\" to perform tasks by considering examples, generally without being programmed with any task-specific rules.', 'An ANN is a model based on a collection of connected units or nodes called \"artificial neurons\", which loosely model the neurons in a biological brain.', 'Each connection, like the synapses in a biological brain, can transmit information, a \"signal\", from one artificial neuron to another.', 'An artificial neuron that receives a signal can process it and then signal additional artificial neurons connected to it.', 'In common ANN implementations, the signal at a connection between artificial neurons is a real number, and the output of each artificial neuron is computed by some non-linear function of the sum of its inputs.', 'The connections between artificial neurons are called \"edges\".', 'Artificial neurons and edges typically have a weight that adjusts as learning proceeds.', 'The weight increases or decreases the strength of the signal at a connection.', 'Artificial neurons may have a threshold such that the signal is only sent if the aggregate signal crosses that threshold.', 'Typically, artificial neurons are aggregated into layers.', 'Different layers may perform different kinds of transformations on their inputs.', 'Signals travel from the first layer (the input layer) to the last layer (the output layer), possibly after traversing the layers multiple times.', 'The original goal of the ANN approach was to solve problems in the same way that a human brain would.', 'However, over time, attention moved to performing specific tasks, leading to deviations from biology.', 'Artificial neural networks have been used on a variety of tasks, including computer vision, speech recognition, machine translation, social network filtering, playing board and video games and medical diagnosis.', 'Deep learning consists of multiple hidden layers in an artificial neural network.', 'This approach tries to model the way the human brain processes light and sound into vision and hearing.', 'Some successful applications of deep learning are computer vision and speech recognition.', \"[71]\\n\\nDecision trees [ edit ]\\n\\nDecision tree learning uses a decision tree as a predictive model to go from observations about an item (represented in the branches) to conclusions about the item's target value (represented in the leaves).\", 'It is one of the predictive modeling approaches used in statistics, data mining, and machine learning.', 'Tree models where the target variable can take a discrete set of values are called classification trees; in these tree structures, leaves represent class labels and branches represent conjunctions of features that lead to those class labels.', 'Decision trees where the target variable can take continuous values (typically real numbers) are called regression trees.', 'In decision analysis, a decision tree can be used to visually and explicitly represent decisions and decision making.', 'In data mining, a decision tree describes data, but the resulting classification tree can be an input for decision making.', 'Support-vector machines [ edit ]\\n\\nSupport-vector machines (SVMs), also known as support-vector networks, are a set of related supervised learning methods used for classification and regression.', 'Given a set of training examples, each marked as belonging to one of two categories, an SVM training algorithm builds a model that predicts whether a new example falls into one category or the other.', '[72] An SVM training algorithm is a non-probabilistic, binary, linear classifier, although methods such as Platt scaling exist to use SVM in a probabilistic classification setting.', 'In addition to performing linear classification, SVMs can efficiently perform a non-linear classification using what is called the kernel trick, implicitly mapping their inputs into high-dimensional feature spaces.', 'Illustration of linear regression on a data set.', 'Regression analysis [ edit ]\\n\\nRegression analysis encompasses a large variety of statistical methods to estimate the relationship between input variables and their associated features.', 'Its most common form is linear regression, where a single line is drawn to best fit the given data according to a mathematical criterion such as ordinary least squares.', 'The latter is often extended by regularization (mathematics) methods to mitigate overfitting and bias, as in ridge regression.', 'When dealing with non-linear problems, go-to models include polynomial regression (for example, used for trendline fitting in Microsoft Excel[73]), logistic regression (often used in statistical classification) or even kernel regression, which introduces non-linearity by taking advantage of the kernel trick to implicitly map input variables to higher-dimensional space.', 'Bayesian networks [ edit ]\\n\\nA simple Bayesian network.', 'Rain influences whether the sprinkler is activated, and both rain and the sprinkler influence whether the grass is wet.', 'A Bayesian network, belief network, or directed acyclic graphical model is a probabilistic graphical model that represents a set of random variables and their conditional independence with a directed acyclic graph (DAG).', 'For example, a Bayesian network could represent the probabilistic relationships between diseases and symptoms.', 'Given symptoms, the network can be used to compute the probabilities of the presence of various diseases.', 'Efficient algorithms exist that perform inference and learning.', 'Bayesian networks that model sequences of variables, like speech signals or protein sequences, are called dynamic Bayesian networks.', 'Generalizations of Bayesian networks that can represent and solve decision problems under uncertainty are called influence diagrams.', 'Genetic algorithms [ edit ]\\n\\nA genetic algorithm (GA) is a search algorithm and heuristic technique that mimics the process of natural selection, using methods such as mutation and crossover to generate new genotypes in the hope of finding good solutions to a given problem.', 'In machine learning, genetic algorithms were used in the 1980s and 1990s.', '[74][75] Conversely, machine learning techniques have been used to improve the performance of genetic and evolutionary algorithms.', '[76]\\n\\nTraining models [ edit ]\\n\\nUsually, machine learning models require a lot of data in order for them to perform well.', 'Usually, when training a machine learning model, one needs to collect a large, representative sample of data from a training set.', 'Data from the training set can be as varied as a corpus of text, a collection of images, and data collected from individual users of a service.', 'Overfitting is something to watch out for when training a machine learning model.', 'Trained models derived from biased data can result in skewed or undesired predictions.', 'Algorithmic bias is a potential result from data not fully prepared for training.', \"Federated learning [ edit ]\\n\\nFederated learning is an adapted form of distributed artificial intelligence to training machine learning models that decentralizes the training process, allowing for users' privacy to be maintained by not needing to send their data to a centralized server.\", 'This also increases efficiency by decentralizing the training process to many devices.', \"For example, Gboard uses federated machine learning to train search query prediction models on users' mobile phones without having to send individual searches back to Google.\", '[77]\\n\\nApplications [ edit ]\\n\\nThere are many applications for machine learning, including:\\n\\nIn 2006, the media-services provider Netflix held the first \"Netflix Prize\" competition to find a program to better predict user preferences and improve the accuracy of its existing Cinematch movie recommendation algorithm by at least 10%.', 'A joint team made up of researchers from AT&T Labs-Research in collaboration with the teams Big Chaos and Pragmatic Theory built an ensemble model to win the Grand Prize in 2009 for $1 million.', '[79] Shortly after the prize was awarded, Netflix realized that viewers\\' ratings were not the best indicators of their viewing patterns (\"everything is a recommendation\") and they changed their recommendation engine accordingly.', '[80] In 2010 The Wall Street Journal wrote about the firm Rebellion Research and their use of machine learning to predict the financial crisis.', \"[81] In 2012, co-founder of Sun Microsystems, Vinod Khosla, predicted that 80% of medical doctors' jobs would be lost in the next two decades to automated machine learning medical diagnostic software.\", '[82] In 2014, it was reported that a machine learning algorithm had been applied in the field of art history to study fine art paintings and that it may have revealed previously unrecognized influences among artists.', '[83] In 2019 Springer Nature published the first research book created using machine learning.', '[84] In 2020, machine learning technology was used to help make diagnoses and aid researchers in developing a cure for COVID-19.', '[85] Machine learning is recently applied to predict the green behavior of human-being.', '[86]\\n\\nLimitations [ edit ]\\n\\nAlthough machine learning has been transformative in some fields, machine-learning programs often fail to deliver expected results.', '[87][88][89] Reasons for this are numerous: lack of (suitable) data, lack of access to the data, data bias, privacy problems, badly chosen tasks and algorithms, wrong tools and people, lack of resources, and evaluation problems.', '[90]\\n\\nIn 2018, a self-driving car from Uber failed to detect a pedestrian, who was killed after a collision.', '[91] Attempts to use machine learning in healthcare with the IBM Watson system failed to deliver even after years of time and billions of dollars invested.', '[92][93]\\n\\nMachine learning has been used as a strategy to update the evidence related to systematic review and increased reviewer burden related to the growth of biomedical literature.', 'While it has improved with training sets, it has not yet developed sufficiently to reduce the workload burden without limiting the necessary sensitivity for the findings research themselves.', '[94]\\n\\nBias [ edit ]\\n\\nMachine learning approaches in particular can suffer from different data biases.', 'A machine learning system trained specifically on current customers may not be able to predict the needs of new customer groups that are not represented in the training data.', 'When trained on man-made data, machine learning is likely to pick up the constitutional and unconscious biases already present in society.', '[95] Language models learned from data have been shown to contain human-like biases.', '[96][97] Machine learning systems used for criminal risk assessment have been found to be biased against black people.', '[98][99] In 2015, Google photos would often tag black people as gorillas,[100] and in 2018 this still was not well resolved, but Google reportedly was still using the workaround to remove all gorillas from the training data, and thus was not able to recognize real gorillas at all.', '[101] Similar issues with recognizing non-white people have been found in many other systems.', '[102] In 2016, Microsoft tested a chatbot that learned from Twitter, and it quickly picked up racist and sexist language.', '[103] Because of such challenges, the effective use of machine learning may take longer to be adopted in other domains.', '[104] Concern for fairness in machine learning, that is, reducing bias in machine learning and propelling its use for human good is increasingly expressed by artificial intelligence scientists, including Fei-Fei Li, who reminds engineers that \"There’s nothing artificial about AI...It’s inspired by people, it’s created by people, and—most importantly—it impacts people.', 'It is a powerful tool we are only just beginning to understand, and that is a profound responsibility.”[105]\\n\\nModel assessments [ edit ]\\n\\nClassification of machine learning models can be validated by accuracy estimation techniques like the holdout method, which splits the data in a training and test set (conventionally 2/3 training set and 1/3 test set designation) and evaluates the performance of the training model on the test set.', 'In comparison, the K-fold-cross-validation method randomly partitions the data into K subsets and then K experiments are performed each respectively considering 1 subset for evaluation and the remaining K-1 subsets for training the model.', 'In addition to the holdout and cross-validation methods, bootstrap, which samples n instances with replacement from the dataset, can be used to assess model accuracy.', '[106]\\n\\nIn addition to overall accuracy, investigators frequently report sensitivity and specificity meaning True Positive Rate (TPR) and True Negative Rate (TNR) respectively.', 'Similarly, investigators sometimes report the false positive rate (FPR) as well as the false negative rate (FNR).', 'However, these rates are ratios that fail to reveal their numerators and denominators.', \"The total operating characteristic (TOC) is an effective method to express a model's diagnostic ability.\", \"TOC shows the numerators and denominators of the previously mentioned rates, thus TOC provides more information than the commonly used receiver operating characteristic (ROC) and ROC's associated area under the curve (AUC).\", '[107]\\n\\nEthics [ edit ]\\n\\nMachine learning poses a host of ethical questions.', 'Systems which are trained on datasets collected with biases may exhibit these biases upon use (algorithmic bias), thus digitizing cultural prejudices.', \"[108] For example, in 1988, the UK's Commission for Racial Equality found that St. George's Medical School had been using a computer program trained from data of previous admissions staff and this program had denied nearly 60 candidates who were found to be either women or had non-European sounding names.\", '[95] Using job hiring data from a firm with racist hiring policies may lead to a machine learning system duplicating the bias by scoring job applicants by similarity to previous successful applicants.', '[109][110] Responsible collection of data and documentation of algorithmic rules used by a system thus is a critical part of machine learning.', 'AI can be well-equipped to make decisions in technical fields, which rely heavily on data and historical information.', 'These decisions rely on objectivity and logical reasoning.', '[111] Because human languages contain biases, machines trained on language corpora will necessarily also learn these biases.', '[112][113]\\n\\nOther forms of ethical challenges, not related to personal biases, are seen in health care.', \"There are concerns among health care professionals that these systems might not be designed in the public's interest but as income-generating machines.\", '[114] This is especially true in the United States where there is a long-standing ethical dilemma of improving health care, but also increasing profits.', \"For example, the algorithms could be designed to provide patients with unnecessary tests or medication in which the algorithm's proprietary owners hold stakes.\", 'There is potential for machine learning in health care to provide professionals an additional tool to diagnose, medicate, and plan recovery paths for patients, but this requires these biases to be mitigated.', '[115]\\n\\nHardware [ edit ]\\n\\nSince the 2010s, advances in both machine learning algorithms and computer hardware have led to more efficient methods for training deep neural networks (a particular narrow subdomain of machine learning) that contain many layers of non-linear hidden units.', '[116] By 2019, graphic processing units (GPUs), often with AI-specific enhancements, had displaced CPUs as the dominant method of training large-scale commercial cloud AI.', '[117] OpenAI estimated the hardware compute used in the largest deep learning projects from AlexNet (2012) to AlphaZero (2017), and found a 300,000-fold increase in the amount of compute required, with a doubling-time trendline of 3.4 months.', '[118][119]\\n\\nSoftware [ edit ]\\n\\nSoftware suites containing a variety of machine learning algorithms include the following:\\n\\nFree and open-source software [ edit ]\\n\\nProprietary software with free and open-source editions [ edit ]\\n\\nProprietary software [ edit ]\\n\\nJournals [ edit ]\\n\\nConferences [ edit ]\\n\\nSee also [ edit ]\\n\\nReferences [ edit ]']\n"
          ],
          "name": "stdout"
        }
      ]
    },
    {
      "cell_type": "code",
      "metadata": {
        "id": "AMoY9L4f4YfB"
      },
      "source": [
        "#function to return a random greeting response\n",
        "def greeting_response(text):\n",
        "  text=text.lower()\n",
        "\n",
        "  #bots greeting\n",
        "  bot_greetings =['welcome to portal','Hello ,how can i help','Want some help?','hey','Want to know something']\n",
        "  #users greetings\n",
        "  user_greeting =['hi','hey','hello','greetings','sup']\n",
        "  for word in text.split():\n",
        "    if word in user_greeting:\n",
        "      return random.choice(bot_greetings)"
      ],
      "execution_count": 34,
      "outputs": []
    },
    {
      "cell_type": "code",
      "metadata": {
        "id": "5ZXmDuHg6DW5"
      },
      "source": [
        "def index_sort(list_var):\n",
        "  length=len(list_var)\n",
        "  list_index=list(range(0,length))\n",
        "  x=list_var\n",
        "  for i in range(length):\n",
        "    for j in range(length):\n",
        "      if x[list_index[i]] > x[list_index[j]]:\n",
        "        temp=list_index[i]\n",
        "        list_index[i] =list_index[j]\n",
        "        list_index[j]=temp\n",
        "  return list_index\n"
      ],
      "execution_count": 35,
      "outputs": []
    },
    {
      "cell_type": "code",
      "metadata": {
        "id": "Z0ZhRDbo5XE-"
      },
      "source": [
        "def bot_responses(user_input):\n",
        "  user_input = user_input.lower()\n",
        "  sentence_list.append(user_input)\n",
        "  bot_response = ''\n",
        "  cm = CountVectorizer().fit_transform(sentence_list)\n",
        "  similarity_scores = cosine_similarity(cm[-1],cm)\n",
        "  similarity_scores_list = similarity_scores.flatten()\n",
        "  index = index_sort(similarity_scores_list) \n",
        "  index=index[1:]\n",
        "  response_flag = 0\n",
        "  \n",
        "  j = 0\n",
        "\n",
        "  for i in range(len(index)):\n",
        "    if similarity_scores_list[index[i]] > 0.0:\n",
        "      bot_response=bot_response+' '+sentence_list[index[i]]\n",
        "      response_flag = 1\n",
        "      j = j+1\n",
        "    if j>2:\n",
        "      break\n",
        "  if response_flag == 0:\n",
        "    bot_response = bot_response+' '+\"Sorry, but I coudnt get you query try a different question\"\n",
        "  \n",
        "  sentence_list.remove(user_input)\n",
        "\n",
        "  return bot_response\n",
        "\n"
      ],
      "execution_count": 36,
      "outputs": []
    },
    {
      "cell_type": "code",
      "metadata": {
        "id": "cJuhyDDy7j6E"
      },
      "source": [
        "#IGNORE\n",
        "#shows similarity of the given input string provided by user in this case \"hello world\"\n",
        "user_input = 'hello world'\n",
        "sentence_list.append(user_input)\n",
        "bot_response = ''\n",
        "cm = CountVectorizer().fit_transform(sentence_list)\n",
        "similarity_scores = cosine_similarity(cm[-1],cm)\n",
        "similarity_scores_list = similarity_scores.flatten()\n",
        "index = index_sort(similarity_scores_list)\n",
        " "
      ],
      "execution_count": null,
      "outputs": []
    },
    {
      "cell_type": "code",
      "metadata": {
        "id": "1jUw_3VD7yV9"
      },
      "source": [
        "#IGNORE\n",
        "similarity_scores_list"
      ],
      "execution_count": null,
      "outputs": []
    },
    {
      "cell_type": "code",
      "metadata": {
        "id": "nevaCNzR72Uy"
      },
      "source": [
        "#IGNORE\n",
        "#shows index of highest similarity\n",
        "index"
      ],
      "execution_count": null,
      "outputs": []
    },
    {
      "cell_type": "code",
      "metadata": {
        "id": "HEQ-FiSEBC9j"
      },
      "source": [
        "#start the chat"
      ],
      "execution_count": null,
      "outputs": []
    },
    {
      "cell_type": "code",
      "metadata": {
        "colab": {
          "base_uri": "https://localhost:8080/",
          "height": 663
        },
        "id": "DkxhR2pABFFk",
        "outputId": "fdd64d64-8d85-4992-cdce-046878cbc713"
      },
      "source": [
        "print('Welcome to My govt. Services webiste, Im your handy chatbot. If you want to exit type bye')\n",
        "exit_list= ['exit','bye','bye bye','adios','nikal']\n",
        "\n",
        "while(True):\n",
        "  user_input = input()\n",
        "  if user_input.lower() in exit_list:\n",
        "    print('BOT: Chat with you later :)')\n",
        "    break\n",
        "  else:\n",
        "    if greeting_response(user_input)!= None:\n",
        "      print('BOT:'+greeting_response(user_input))\n",
        "    else:\n",
        "      print('BOT:'+bot_responses(user_input))\n"
      ],
      "execution_count": 38,
      "outputs": [
        {
          "output_type": "stream",
          "text": [
            "Welcome to My govt. Services webiste, Im your handy chatbot. If you want to exit type bye\n",
            "panda weight\n",
            "BOT: Even in 2013, the Encyclopædia Britannica still used \"giant panda\" or \"panda bear\" for the bear,[25] and simply \"panda\" for the red panda,[26] despite the popular usage of the word \"panda\" to refer to giant pandas. [82] A giant panda cub. Panda cubs\n",
            "\n",
            "In many older sources, the name \"panda\" or \"common panda\" refers to the lesser-known red panda,[24] thus necessitating the inclusion of \"giant\" and \"lesser/red\" prefixes in front of the names.\n",
            "where does it live?\n",
            "BOT: [10] As a result of farming, deforestation, and other development, the giant panda has been driven out of the lowland areas where it once lived, and it is a conservation-reliant vulnerable species. As it navigates its problem space, the program is provided feedback that's analogous to rewards, which it tries to maximize. An artificial neuron that receives a signal can process it and then signal additional artificial neurons connected to it.\n"
          ],
          "name": "stdout"
        },
        {
          "output_type": "error",
          "ename": "KeyboardInterrupt",
          "evalue": "ignored",
          "traceback": [
            "\u001b[0;31m---------------------------------------------------------------------------\u001b[0m",
            "\u001b[0;31mKeyboardInterrupt\u001b[0m                         Traceback (most recent call last)",
            "\u001b[0;32m/usr/local/lib/python3.7/dist-packages/ipykernel/kernelbase.py\u001b[0m in \u001b[0;36m_input_request\u001b[0;34m(self, prompt, ident, parent, password)\u001b[0m\n\u001b[1;32m    728\u001b[0m             \u001b[0;32mtry\u001b[0m\u001b[0;34m:\u001b[0m\u001b[0;34m\u001b[0m\u001b[0;34m\u001b[0m\u001b[0m\n\u001b[0;32m--> 729\u001b[0;31m                 \u001b[0mident\u001b[0m\u001b[0;34m,\u001b[0m \u001b[0mreply\u001b[0m \u001b[0;34m=\u001b[0m \u001b[0mself\u001b[0m\u001b[0;34m.\u001b[0m\u001b[0msession\u001b[0m\u001b[0;34m.\u001b[0m\u001b[0mrecv\u001b[0m\u001b[0;34m(\u001b[0m\u001b[0mself\u001b[0m\u001b[0;34m.\u001b[0m\u001b[0mstdin_socket\u001b[0m\u001b[0;34m,\u001b[0m \u001b[0;36m0\u001b[0m\u001b[0;34m)\u001b[0m\u001b[0;34m\u001b[0m\u001b[0;34m\u001b[0m\u001b[0m\n\u001b[0m\u001b[1;32m    730\u001b[0m             \u001b[0;32mexcept\u001b[0m \u001b[0mException\u001b[0m\u001b[0;34m:\u001b[0m\u001b[0;34m\u001b[0m\u001b[0;34m\u001b[0m\u001b[0m\n",
            "\u001b[0;32m/usr/local/lib/python3.7/dist-packages/jupyter_client/session.py\u001b[0m in \u001b[0;36mrecv\u001b[0;34m(self, socket, mode, content, copy)\u001b[0m\n\u001b[1;32m    802\u001b[0m         \u001b[0;32mtry\u001b[0m\u001b[0;34m:\u001b[0m\u001b[0;34m\u001b[0m\u001b[0;34m\u001b[0m\u001b[0m\n\u001b[0;32m--> 803\u001b[0;31m             \u001b[0mmsg_list\u001b[0m \u001b[0;34m=\u001b[0m \u001b[0msocket\u001b[0m\u001b[0;34m.\u001b[0m\u001b[0mrecv_multipart\u001b[0m\u001b[0;34m(\u001b[0m\u001b[0mmode\u001b[0m\u001b[0;34m,\u001b[0m \u001b[0mcopy\u001b[0m\u001b[0;34m=\u001b[0m\u001b[0mcopy\u001b[0m\u001b[0;34m)\u001b[0m\u001b[0;34m\u001b[0m\u001b[0;34m\u001b[0m\u001b[0m\n\u001b[0m\u001b[1;32m    804\u001b[0m         \u001b[0;32mexcept\u001b[0m \u001b[0mzmq\u001b[0m\u001b[0;34m.\u001b[0m\u001b[0mZMQError\u001b[0m \u001b[0;32mas\u001b[0m \u001b[0me\u001b[0m\u001b[0;34m:\u001b[0m\u001b[0;34m\u001b[0m\u001b[0;34m\u001b[0m\u001b[0m\n",
            "\u001b[0;32m/usr/local/lib/python3.7/dist-packages/zmq/sugar/socket.py\u001b[0m in \u001b[0;36mrecv_multipart\u001b[0;34m(self, flags, copy, track)\u001b[0m\n\u001b[1;32m    582\u001b[0m         \"\"\"\n\u001b[0;32m--> 583\u001b[0;31m         \u001b[0mparts\u001b[0m \u001b[0;34m=\u001b[0m \u001b[0;34m[\u001b[0m\u001b[0mself\u001b[0m\u001b[0;34m.\u001b[0m\u001b[0mrecv\u001b[0m\u001b[0;34m(\u001b[0m\u001b[0mflags\u001b[0m\u001b[0;34m,\u001b[0m \u001b[0mcopy\u001b[0m\u001b[0;34m=\u001b[0m\u001b[0mcopy\u001b[0m\u001b[0;34m,\u001b[0m \u001b[0mtrack\u001b[0m\u001b[0;34m=\u001b[0m\u001b[0mtrack\u001b[0m\u001b[0;34m)\u001b[0m\u001b[0;34m]\u001b[0m\u001b[0;34m\u001b[0m\u001b[0;34m\u001b[0m\u001b[0m\n\u001b[0m\u001b[1;32m    584\u001b[0m         \u001b[0;31m# have first part already, only loop while more to receive\u001b[0m\u001b[0;34m\u001b[0m\u001b[0;34m\u001b[0m\u001b[0;34m\u001b[0m\u001b[0m\n",
            "\u001b[0;32mzmq/backend/cython/socket.pyx\u001b[0m in \u001b[0;36mzmq.backend.cython.socket.Socket.recv\u001b[0;34m()\u001b[0m\n",
            "\u001b[0;32mzmq/backend/cython/socket.pyx\u001b[0m in \u001b[0;36mzmq.backend.cython.socket.Socket.recv\u001b[0;34m()\u001b[0m\n",
            "\u001b[0;32mzmq/backend/cython/socket.pyx\u001b[0m in \u001b[0;36mzmq.backend.cython.socket._recv_copy\u001b[0;34m()\u001b[0m\n",
            "\u001b[0;32m/usr/local/lib/python3.7/dist-packages/zmq/backend/cython/checkrc.pxd\u001b[0m in \u001b[0;36mzmq.backend.cython.checkrc._check_rc\u001b[0;34m()\u001b[0m\n",
            "\u001b[0;31mKeyboardInterrupt\u001b[0m: ",
            "\nDuring handling of the above exception, another exception occurred:\n",
            "\u001b[0;31mKeyboardInterrupt\u001b[0m                         Traceback (most recent call last)",
            "\u001b[0;32m<ipython-input-38-5ad60c6ba54b>\u001b[0m in \u001b[0;36m<module>\u001b[0;34m()\u001b[0m\n\u001b[1;32m      3\u001b[0m \u001b[0;34m\u001b[0m\u001b[0m\n\u001b[1;32m      4\u001b[0m \u001b[0;32mwhile\u001b[0m\u001b[0;34m(\u001b[0m\u001b[0;32mTrue\u001b[0m\u001b[0;34m)\u001b[0m\u001b[0;34m:\u001b[0m\u001b[0;34m\u001b[0m\u001b[0;34m\u001b[0m\u001b[0m\n\u001b[0;32m----> 5\u001b[0;31m   \u001b[0muser_input\u001b[0m \u001b[0;34m=\u001b[0m \u001b[0minput\u001b[0m\u001b[0;34m(\u001b[0m\u001b[0;34m)\u001b[0m\u001b[0;34m\u001b[0m\u001b[0;34m\u001b[0m\u001b[0m\n\u001b[0m\u001b[1;32m      6\u001b[0m   \u001b[0;32mif\u001b[0m \u001b[0muser_input\u001b[0m\u001b[0;34m.\u001b[0m\u001b[0mlower\u001b[0m\u001b[0;34m(\u001b[0m\u001b[0;34m)\u001b[0m \u001b[0;32min\u001b[0m \u001b[0mexit_list\u001b[0m\u001b[0;34m:\u001b[0m\u001b[0;34m\u001b[0m\u001b[0;34m\u001b[0m\u001b[0m\n\u001b[1;32m      7\u001b[0m     \u001b[0mprint\u001b[0m\u001b[0;34m(\u001b[0m\u001b[0;34m'BOT: Chat with you later :)'\u001b[0m\u001b[0;34m)\u001b[0m\u001b[0;34m\u001b[0m\u001b[0;34m\u001b[0m\u001b[0m\n",
            "\u001b[0;32m/usr/local/lib/python3.7/dist-packages/ipykernel/kernelbase.py\u001b[0m in \u001b[0;36mraw_input\u001b[0;34m(self, prompt)\u001b[0m\n\u001b[1;32m    702\u001b[0m             \u001b[0mself\u001b[0m\u001b[0;34m.\u001b[0m\u001b[0m_parent_ident\u001b[0m\u001b[0;34m,\u001b[0m\u001b[0;34m\u001b[0m\u001b[0;34m\u001b[0m\u001b[0m\n\u001b[1;32m    703\u001b[0m             \u001b[0mself\u001b[0m\u001b[0;34m.\u001b[0m\u001b[0m_parent_header\u001b[0m\u001b[0;34m,\u001b[0m\u001b[0;34m\u001b[0m\u001b[0;34m\u001b[0m\u001b[0m\n\u001b[0;32m--> 704\u001b[0;31m             \u001b[0mpassword\u001b[0m\u001b[0;34m=\u001b[0m\u001b[0;32mFalse\u001b[0m\u001b[0;34m,\u001b[0m\u001b[0;34m\u001b[0m\u001b[0;34m\u001b[0m\u001b[0m\n\u001b[0m\u001b[1;32m    705\u001b[0m         )\n\u001b[1;32m    706\u001b[0m \u001b[0;34m\u001b[0m\u001b[0m\n",
            "\u001b[0;32m/usr/local/lib/python3.7/dist-packages/ipykernel/kernelbase.py\u001b[0m in \u001b[0;36m_input_request\u001b[0;34m(self, prompt, ident, parent, password)\u001b[0m\n\u001b[1;32m    732\u001b[0m             \u001b[0;32mexcept\u001b[0m \u001b[0mKeyboardInterrupt\u001b[0m\u001b[0;34m:\u001b[0m\u001b[0;34m\u001b[0m\u001b[0;34m\u001b[0m\u001b[0m\n\u001b[1;32m    733\u001b[0m                 \u001b[0;31m# re-raise KeyboardInterrupt, to truncate traceback\u001b[0m\u001b[0;34m\u001b[0m\u001b[0;34m\u001b[0m\u001b[0;34m\u001b[0m\u001b[0m\n\u001b[0;32m--> 734\u001b[0;31m                 \u001b[0;32mraise\u001b[0m \u001b[0mKeyboardInterrupt\u001b[0m\u001b[0;34m\u001b[0m\u001b[0;34m\u001b[0m\u001b[0m\n\u001b[0m\u001b[1;32m    735\u001b[0m             \u001b[0;32melse\u001b[0m\u001b[0;34m:\u001b[0m\u001b[0;34m\u001b[0m\u001b[0;34m\u001b[0m\u001b[0m\n\u001b[1;32m    736\u001b[0m                 \u001b[0;32mbreak\u001b[0m\u001b[0;34m\u001b[0m\u001b[0;34m\u001b[0m\u001b[0m\n",
            "\u001b[0;31mKeyboardInterrupt\u001b[0m: "
          ]
        }
      ]
    }
  ]
}